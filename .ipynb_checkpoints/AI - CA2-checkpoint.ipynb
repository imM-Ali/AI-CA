{
 "cells": [
  {
   "cell_type": "markdown",
   "id": "94555269",
   "metadata": {},
   "source": [
    "Github: https://github.com/imM-Ali/AI-CA\n",
    "Ref1: https://study.com/learn/lesson/connected-complete-graph-overview-examples.html\n",
    "Ref2: https://www.javatpoint.com/tree-vs-graph-data-structure\n",
    "Ref3: https://learn.saylor.org/mod/resource/view.php?id=19010\n",
    "\n",
    "### 1) Graph\n",
    "#### It is a non-linear representation of a relation between objects. Every object is called a node and each node can have any number of edges. An edge is a line connecting one node to another. \n",
    "#### It can either be directional or non-directional depending if the vertices give any direction. A non-directional graph does not have a unique node which can be used as a root. However, in a directional graph, we can use the start point as the root.\n",
    "#### A graph can can have loops, meaning an edge could come back to its own node.\n",
    "#### It can be complete, where all the nodes are connected to each other with edges, connected, where atleast two nodes are connected to each other and the rest could be disconnected.\n",
    "### 2) Tree\n",
    "#### It is also a non linear representation of data. However, unlike graph, which is a netwrk model, trees form a heirarichal model where we have parents and children at each stage.\n",
    "#### There are no loops in trees as you cannot come back to the same node after visiting it once.\n",
    "#### Trees are always directional and it is always connected.\n",
    "#### Trees always have a unique node known as the root and it branches out to children under this root.\n",
    "\n"
   ]
  },
  {
   "cell_type": "code",
   "execution_count": null,
   "id": "3416ed75",
   "metadata": {},
   "outputs": [],
   "source": []
  }
 ],
 "metadata": {
  "kernelspec": {
   "display_name": "Python 3 (ipykernel)",
   "language": "python",
   "name": "python3"
  },
  "language_info": {
   "codemirror_mode": {
    "name": "ipython",
    "version": 3
   },
   "file_extension": ".py",
   "mimetype": "text/x-python",
   "name": "python",
   "nbconvert_exporter": "python",
   "pygments_lexer": "ipython3",
   "version": "3.11.5"
  }
 },
 "nbformat": 4,
 "nbformat_minor": 5
}
