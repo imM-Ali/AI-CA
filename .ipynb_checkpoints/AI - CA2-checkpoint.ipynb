{
 "cells": [
  {
   "cell_type": "markdown",
   "id": "43e4fe5a",
   "metadata": {},
   "source": [
    "Github: https://github.com/imM-Ali/AI-CA\n",
    "\n",
    "\n",
    "### Q1)\n",
    "\n",
    "#### 1) Graph\n",
    "It is a non-linear representation of a relation between objects. Every object is called a node and each node can have any number of edges. An edge is a line connecting one node to another. \n",
    "\n",
    "It can either be directional or non-directional depending if the vertices give any direction. A non-directional graph does not have a unique node which can be used as a root. However, in a directional graph, we can use the start point as the root.\n",
    "\n",
    "A graph can can have loops, meaning an edge could come back to its own node.\n",
    "\n",
    "It can be complete, where all the nodes are connected to each other with edges, connected, where atleast two nodes are connected to each other and disconnected, where one or more node are not connected with any edges"
   ]
  },
  {
   "cell_type": "markdown",
   "id": "4b7ea563",
   "metadata": {},
   "source": [
    "#### 2) Tree\n",
    "It is also a non linear representation of data. However, unlike graph, which is a network model, trees form a heirarichal model where we have parents and children at each stage.\n",
    "\n",
    "There are no loops in trees as you cannot come back to the same node after visiting it once.\n",
    "\n",
    "Trees are always directional and it is always connected.\n",
    "\n",
    "Trees always have a unique node known as the root and it branches out to children under this root.\n",
    "\n",
    "\n",
    "##### Ref: https://study.com/learn/lesson/connected-complete-graph-overview-examples.html\n",
    "\n",
    "##### Ref2: https://www.javatpoint.com/tree-vs-graph-data-structure\n",
    "\n",
    "##### Ref3: https://learn.saylor.org/mod/resource/view.php?id=19010\n",
    "\n",
    "##### Ref4: https://stackoverflow.com/questions/7423401/whats-the-difference-between-the-data-structure-tree-and-graph"
   ]
  },
  {
   "cell_type": "markdown",
   "id": "2783fa40",
   "metadata": {},
   "source": [
    "### Q2)\n",
    "In the 21st century, being able to develop algorithms for data analysis and AI is an important skill and having the idea of how to solve a particular problem is worth gold. However, this knowlege is useless if we do not have a domain to use the algorithm on.\n",
    "\n",
    "Abstraction helps us show the underlying structure and relationships in a problem as a graph, which can then be manipulated as needed. It is the breaking down of the problem by reducing the unnecessary detail of the situation which does not help us solve the problem.\n",
    "\n",
    "Abstracting the problem down to a graph allows us to implement and develop efficient graph algorithms to find solutions for problems, such as Eulerian trail , minimum spanning tree or estimating the most efficient way from one place to another.\n",
    "\n",
    "For example, a map of counties in Ireland can be broken down to a graph where each node represesnts a county and weighted edges could be used to show the distance between the county centers. Here, we have abstracted the map by removing all the greens, border lines, roads and houses as these are extra details that would not help su solve the problem.\n",
    "\n",
    "It is being used for multiple domains, such as air travel, social networking etc.\n",
    "\n",
    "##### Ref: https://hal.science/hal-03748478/document\n",
    "##### Ref: https://www.xomnia.com/post/graph-theory-and-its-uses-with-examples-of-real-life-problems/"
   ]
  },
  {
   "cell_type": "markdown",
   "id": "34f2a643",
   "metadata": {},
   "source": [
    "### Q3)\n",
    "Graphs are the backbone of visual data analysis. Data can be represented as node-edge pairs which gives us farr more information about the structure of the data in comparison to plain data being written in rows and columns. It helps us see trends, relations, patterns and also enables us to make right decisions faster.\n",
    "\n",
    "The specific type of graph in question is a weighted graph, where a weight is added to every edge connecting two nodes. It gives us a better real-life abtraction of a problem as this weight could represent anything in a particular domain. Such as, distance, length, density, cost or the probabilty of someone being friends with another person on a social network can also be represented by the weight on the edge between these two people.\n",
    "\n",
    "The weights can also help us find the shortest path between two nodes. Instead of doing it manually, the weight structure helps us use algorithms such as djisktra's algorithm for accurately finding the shortest path as the additional information this graph gives us will optimize the search.\n",
    "\n",
    "Having weights on edges also makes it easier to evaluate trade-offs and make decisions accordingly.\n",
    "\n",
    "##### Ref: https://www.geeksforgeeks.org/applications-advantages-and-disadvantages-of-weighted-graph/\n",
    "##### Ref: https://www.studocu.com/en-us/messages/question/2947817/what-are-the-main-advantages-weighted-graphs-have-over-un-weighted-graphs\n",
    "\n",
    "\n"
   ]
  },
  {
   "cell_type": "code",
   "execution_count": null,
   "id": "c8c2c91c",
   "metadata": {},
   "outputs": [],
   "source": []
  }
 ],
 "metadata": {
  "kernelspec": {
   "display_name": "Python 3 (ipykernel)",
   "language": "python",
   "name": "python3"
  },
  "language_info": {
   "codemirror_mode": {
    "name": "ipython",
    "version": 3
   },
   "file_extension": ".py",
   "mimetype": "text/x-python",
   "name": "python",
   "nbconvert_exporter": "python",
   "pygments_lexer": "ipython3",
   "version": "3.11.5"
  }
 },
 "nbformat": 4,
 "nbformat_minor": 5
}
