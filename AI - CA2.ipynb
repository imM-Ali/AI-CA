{
 "cells": [
  {
   "cell_type": "markdown",
   "id": "e54815b4",
   "metadata": {},
   "source": [
    "Github: https://github.com/imM-Ali/AI-CA\n",
    "Ref1: https://study.com/learn/lesson/connected-complete-graph-overview-examples.html\n",
    "Ref2: https://www.javatpoint.com/tree-vs-graph-data-structure\n",
    "Ref3: https://learn.saylor.org/mod/resource/view.php?id=19010\n",
    "Ref4: https://stackoverflow.com/questions/7423401/whats-the-difference-between-the-data-structure-tree-and-graph\n",
    "\n",
    "### 1) Graph\n",
    "It is a non-linear representation of a relation between objects. Every object is called a node and each node can have any number of edges. An edge is a line connecting one node to another. \n",
    "It can either be directional or non-directional depending if the vertices give any direction. A non-directional graph does not have a unique node which can be used as a root. However, in a directional graph, we can use the start point as the root.\n",
    "A graph can can have loops, meaning an edge could come back to its own node.\n",
    "It can be complete, where all the nodes are connected to each other with edges, connected, where atleast two nodes are connected to each other and disconnected, where one or more node are not connected with any edges"
   ]
  },
  {
   "cell_type": "markdown",
   "id": "2c91f6f3",
   "metadata": {},
   "source": [
    "### 2) Tree\n",
    "It is also a non linear representation of data. However, unlike graph, which is a netwrk model, trees form a heirarichal model where we have parents and children at each stage.\n",
    "There are no loops in trees as you cannot come back to the same node after visiting it once.\n",
    "Trees are always directional and it is always connected.\n",
    "Trees always have a unique node known as the root and it branches out to children under this root."
   ]
  },
  {
   "cell_type": "markdown",
   "id": "33928376",
   "metadata": {},
   "source": [
    "### Q2)\n",
    "In the 21st century, being able to develop algorithms for data analysis and AI is an important skill and having the idea of how to solve a particular problem is worth gold. However, this knowlege is useless if we do not have a domain to use the algorithm on.\n",
    "\n",
    "Abstraction helps us show the underlying structure and relationships in a problem as a graph, which can then be manipulated as needed. It is the breaking down of the problem by reducing the unnecessary detail of the situation which does not help us solve the problem.\n",
    "\n",
    "Abstracting the problem down to a graph allows us to implement and develop efficient graph algorithms to find solutions for problems, such as Eulerian trail , minimum spanning tree or estimating the most efficient way from one place to another.\n",
    "\n",
    "For example, a map of counties in Ireland can be broken down to a graph where each node represesnts a county and weighted edges could be used to show the distance between the county centers. Here, we have abstracted the map by removing all the greens, border lines, roads and houses as these are extra details that would not help su solve the problem.\n",
    "\n",
    "It is being used for multiple domains, such as air travel, social networking etc.\n",
    "\n",
    "##### Ref: https://hal.science/hal-03748478/document\n",
    "##### Ref: https://www.xomnia.com/post/graph-theory-and-its-uses-with-examples-of-real-life-problems/"
   ]
  },
  {
   "cell_type": "code",
   "execution_count": null,
   "id": "74bbf45c",
   "metadata": {},
   "outputs": [],
   "source": []
  }
 ],
 "metadata": {
  "kernelspec": {
   "display_name": "Python 3 (ipykernel)",
   "language": "python",
   "name": "python3"
  },
  "language_info": {
   "codemirror_mode": {
    "name": "ipython",
    "version": 3
   },
   "file_extension": ".py",
   "mimetype": "text/x-python",
   "name": "python",
   "nbconvert_exporter": "python",
   "pygments_lexer": "ipython3",
   "version": "3.11.5"
  }
 },
 "nbformat": 4,
 "nbformat_minor": 5
}
